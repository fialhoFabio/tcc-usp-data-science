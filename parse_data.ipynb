{
 "cells": [
  {
   "metadata": {
    "ExecuteTime": {
     "end_time": "2025-04-23T22:04:19.200735Z",
     "start_time": "2025-04-23T22:04:19.198255Z"
    }
   },
   "cell_type": "code",
   "source": [
    "import pandas as pd\n",
    "import yfinance as yf"
   ],
   "id": "5039fd38c98ecfcc",
   "outputs": [],
   "execution_count": 65
  },
  {
   "metadata": {
    "ExecuteTime": {
     "end_time": "2025-04-23T22:04:19.249259Z",
     "start_time": "2025-04-23T22:04:19.214982Z"
    }
   },
   "cell_type": "code",
   "source": [
    "# Coleta de dados\n",
    "# Dólar (USD/BRL)\n",
    "dolar = yf.download(\"USDBRL=X\", start=\"2010-01-01\", end=\"2025-01-01\")['Close']\n",
    "dolar_mensal = dolar.resample('ME').last()\n",
    "dolar_mensal = ((dolar_mensal - dolar_mensal.shift(1)) / dolar_mensal.shift(1)) * 100\n",
    "dolar_mensal = dolar_mensal.squeeze()  # Converte DataFrame para Series\n",
    "dolar_mensal"
   ],
   "id": "3b7786a2906f9996",
   "outputs": [
    {
     "name": "stderr",
     "output_type": "stream",
     "text": [
      "[*********************100%***********************]  1 of 1 completed\n"
     ]
    },
    {
     "data": {
      "text/plain": [
       "Date\n",
       "2010-01-31         NaN\n",
       "2010-02-28   -3.572001\n",
       "2010-03-31   -1.411957\n",
       "2010-04-30   -2.909296\n",
       "2010-05-31    4.957478\n",
       "                ...   \n",
       "2024-08-31    0.295836\n",
       "2024-09-30   -3.456118\n",
       "2024-10-31    6.057206\n",
       "2024-11-30    4.366308\n",
       "2024-12-31    2.727016\n",
       "Freq: ME, Name: USDBRL=X, Length: 180, dtype: float64"
      ]
     },
     "execution_count": 66,
     "metadata": {},
     "output_type": "execute_result"
    }
   ],
   "execution_count": 66
  },
  {
   "cell_type": "code",
   "id": "c781b00a90928dce",
   "metadata": {
    "ExecuteTime": {
     "end_time": "2025-04-23T22:04:19.323972Z",
     "start_time": "2025-04-23T22:04:19.286805Z"
    }
   },
   "source": [
    "# IBOVESPA\n",
    "ibovespa = yf.download(\"^BVSP\", start=\"2010-01-01\", end=\"2025-01-01\")['Close']\n",
    "ibovespa_mensal = ibovespa.resample('ME').last()\n",
    "ibovespa_mensal = ((ibovespa_mensal - ibovespa_mensal.shift(1)) / ibovespa_mensal.shift(1)) * 100\n",
    "ibovespa_mensal = ibovespa_mensal.squeeze()  # Converte DataFrame para Series\n",
    "ibovespa_mensal"
   ],
   "outputs": [
    {
     "name": "stderr",
     "output_type": "stream",
     "text": [
      "[*********************100%***********************]  1 of 1 completed\n"
     ]
    },
    {
     "data": {
      "text/plain": [
       "Date\n",
       "2010-01-31         NaN\n",
       "2010-02-28    1.683435\n",
       "2010-03-31    5.817783\n",
       "2010-04-30   -4.038538\n",
       "2010-05-31   -6.638531\n",
       "                ...   \n",
       "2024-08-31    6.542788\n",
       "2024-09-30   -3.079321\n",
       "2024-10-31   -1.595406\n",
       "2024-11-30   -3.118423\n",
       "2024-12-31   -4.285100\n",
       "Freq: ME, Name: ^BVSP, Length: 180, dtype: float64"
      ]
     },
     "execution_count": 67,
     "metadata": {},
     "output_type": "execute_result"
    }
   ],
   "execution_count": 67
  },
  {
   "cell_type": "code",
   "id": "90a8aaee",
   "metadata": {
    "ExecuteTime": {
     "end_time": "2025-04-23T22:04:19.385503Z",
     "start_time": "2025-04-23T22:04:19.376369Z"
    }
   },
   "source": [
    "ipca = pd.read_csv(\"data/ipca.csv\").set_index('Data')[\"Variacao\"]\n",
    "igp10 = pd.read_csv(\"data/igp10.csv\").set_index('Data')[\"Variacao\"]\n",
    "inpc = pd.read_csv(\"data/inpc.csv\").set_index('Data')[\"Variacao\"]\n",
    "igpdi = pd.read_csv(\"data/igpdi.csv\").set_index('Data')[\"Variacao\"]\n",
    "igpm = pd.read_csv(\"data/igpm.csv\").set_index('Data')[\"Variacao\"]"
   ],
   "outputs": [],
   "execution_count": 68
  },
  {
   "cell_type": "code",
   "id": "befc573d",
   "metadata": {
    "ExecuteTime": {
     "end_time": "2025-04-23T22:04:19.437842Z",
     "start_time": "2025-04-23T22:04:19.435125Z"
    }
   },
   "source": [
    "# Sobrescrever os índices do dólar e IBOVESPA com o índice do IPCA\n",
    "dolar_mensal.index = ipca.index\n",
    "ibovespa_mensal.index = ipca.index\n",
    "igpm.index = ipca.index\n",
    "igpdi.index = ipca.index\n",
    "igp10.index = ipca.index\n",
    "inpc.index = ipca.index"
   ],
   "outputs": [],
   "execution_count": 69
  },
  {
   "cell_type": "markdown",
   "id": "8f82d578",
   "metadata": {},
   "source": [
    "################################################################## oi ##############################################################"
   ]
  },
  {
   "cell_type": "code",
   "id": "8039986c",
   "metadata": {
    "ExecuteTime": {
     "end_time": "2025-04-23T22:04:19.461022Z",
     "start_time": "2025-04-23T22:04:19.457551Z"
    }
   },
   "source": [
    "# Criar o DataFrame com as séries ajustadas\n",
    "df_analise = pd.DataFrame({\n",
    "    'Dolar': dolar_mensal,\n",
    "    'IBOVESPA': ibovespa_mensal,\n",
    "    'IPCA': ipca,\n",
    "    'IGPM': igpm,\n",
    "    'IGPDI': igpdi,\n",
    "    'IGP10': igp10,\n",
    "    'INPC': inpc\n",
    "})\n"
   ],
   "outputs": [],
   "execution_count": 70
  },
  {
   "metadata": {
    "ExecuteTime": {
     "end_time": "2025-04-23T22:04:19.488456Z",
     "start_time": "2025-04-23T22:04:19.482971Z"
    }
   },
   "cell_type": "code",
   "source": "df_analise.dropna().to_csv(\"data/df_analise.csv\")",
   "id": "7b9eb4f64dc03569",
   "outputs": [],
   "execution_count": 71
  },
  {
   "cell_type": "code",
   "id": "d31fa336",
   "metadata": {
    "ExecuteTime": {
     "end_time": "2025-04-23T22:06:25.244860Z",
     "start_time": "2025-04-23T22:06:25.240318Z"
    }
   },
   "source": [
    "# Verificar o resultado\n",
    "print(\"\\nForma do DataFrame:\", df_analise.dropna().shape)\n"
   ],
   "outputs": [
    {
     "name": "stdout",
     "output_type": "stream",
     "text": [
      "\n",
      "Forma do DataFrame: (179, 7)\n"
     ]
    }
   ],
   "execution_count": 73
  }
 ],
 "metadata": {
  "kernelspec": {
   "display_name": "tcc",
   "language": "python",
   "name": "python3"
  },
  "language_info": {
   "codemirror_mode": {
    "name": "ipython",
    "version": 3
   },
   "file_extension": ".py",
   "mimetype": "text/x-python",
   "name": "python",
   "nbconvert_exporter": "python",
   "pygments_lexer": "ipython3",
   "version": "3.12.8"
  }
 },
 "nbformat": 4,
 "nbformat_minor": 5
}
