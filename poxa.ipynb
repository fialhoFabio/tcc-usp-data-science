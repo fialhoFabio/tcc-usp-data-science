{
 "cells": [
  {
   "cell_type": "code",
   "id": "initial_id",
   "metadata": {
    "collapsed": true,
    "ExecuteTime": {
     "end_time": "2025-04-26T04:51:24.546447Z",
     "start_time": "2025-04-26T04:51:24.541304Z"
    }
   },
   "source": [
    "import pandas as pd\n",
    "import locale\n",
    "locale.setlocale(locale.LC_TIME, 'pt_BR.UTF-8')"
   ],
   "outputs": [
    {
     "data": {
      "text/plain": [
       "'pt_BR.UTF-8'"
      ]
     },
     "execution_count": 22,
     "metadata": {},
     "output_type": "execute_result"
    }
   ],
   "execution_count": 22
  },
  {
   "metadata": {
    "ExecuteTime": {
     "end_time": "2025-04-26T04:51:24.633047Z",
     "start_time": "2025-04-26T04:51:24.628049Z"
    }
   },
   "cell_type": "code",
   "source": [
    "import pandas as pd\n",
    "\n",
    "def construir_indice_acumulado(serie_variacao, base=100):\n",
    "    \"\"\"\n",
    "    serie_variacao: pandas Series com as variações percentuais (ex: 0.5 para 0,5%)\n",
    "    base: valor inicial do índice (padrão 100)\n",
    "    \"\"\"\n",
    "    # transforma variação percentual em fator de multiplicação\n",
    "    fatores = (serie_variacao / 100) + 1\n",
    "    # acumula\n",
    "    indice = fatores.cumprod() * base\n",
    "    return indice\n",
    "\n",
    "# exemplo de uso\n",
    "# suponha que vc tenha uma série IPCA\n",
    "# ex: jan, fev, mar variacoes de 0.5%, 0.8%, 0.3%\n",
    "ipca_variacao = pd.Series([0.5, 0.8, 0.3], index=pd.date_range('2010-01-01', periods=3, freq='MS'))\n",
    "\n",
    "ipca_indice = construir_indice_acumulado(ipca_variacao)\n",
    "\n",
    "print(ipca_indice)"
   ],
   "id": "94c5dc2d7d9ecd93",
   "outputs": [
    {
     "name": "stdout",
     "output_type": "stream",
     "text": [
      "2010-01-01    100.500000\n",
      "2010-02-01    101.304000\n",
      "2010-03-01    101.607912\n",
      "Freq: MS, dtype: float64\n"
     ]
    }
   ],
   "execution_count": 23
  },
  {
   "metadata": {
    "ExecuteTime": {
     "end_time": "2025-04-26T04:51:24.651639Z",
     "start_time": "2025-04-26T04:51:24.644174Z"
    }
   },
   "cell_type": "code",
   "source": [
    "ipca = pd.read_csv('data/ipca.csv').set_index('Data')\n",
    "ipca.index = pd.to_datetime(ipca.index, format='%b/%Y')\n",
    "construir_indice_acumulado(ipca).to_csv('data/ipca_acumulado.csv', index_label='Data')"
   ],
   "id": "95c24de3649eddec",
   "outputs": [],
   "execution_count": 24
  },
  {
   "metadata": {
    "ExecuteTime": {
     "end_time": "2025-04-26T04:51:24.673496Z",
     "start_time": "2025-04-26T04:51:24.665993Z"
    }
   },
   "cell_type": "code",
   "source": [
    "inpc = pd.read_csv('data/inpc.csv').set_index('Data')\n",
    "inpc.index = pd.to_datetime(inpc.index, format='%b/%Y')\n",
    "construir_indice_acumulado(inpc).to_csv('data/inpc_acumulado.csv', index_label='Data')"
   ],
   "id": "25e1e29b475f6fcd",
   "outputs": [],
   "execution_count": 25
  },
  {
   "metadata": {
    "ExecuteTime": {
     "end_time": "2025-04-26T04:51:24.689470Z",
     "start_time": "2025-04-26T04:51:24.681771Z"
    }
   },
   "cell_type": "code",
   "source": [
    "igp10 = pd.read_csv('data/igp10.csv').set_index('Data')\n",
    "igp10.index = pd.to_datetime(igp10.index, format='%b/%Y')\n",
    "construir_indice_acumulado(igp10).to_csv('data/igp10_acumulado.csv', index_label='Data')"
   ],
   "id": "f7e61aa364deb553",
   "outputs": [],
   "execution_count": 26
  },
  {
   "metadata": {
    "ExecuteTime": {
     "end_time": "2025-04-26T04:51:24.704679Z",
     "start_time": "2025-04-26T04:51:24.698435Z"
    }
   },
   "cell_type": "code",
   "source": [
    "igpdi = pd.read_csv('data/igpdi.csv').set_index('Data')\n",
    "igpdi.index = pd.to_datetime(igpdi.index, format='%b/%Y')\n",
    "construir_indice_acumulado(igpdi).to_csv('data/igpdi_acumulado.csv', index_label='Data')"
   ],
   "id": "e9fe8a0d2424cecb",
   "outputs": [],
   "execution_count": 27
  },
  {
   "metadata": {
    "ExecuteTime": {
     "end_time": "2025-04-26T04:51:24.719523Z",
     "start_time": "2025-04-26T04:51:24.713207Z"
    }
   },
   "cell_type": "code",
   "source": [
    "igpm = pd.read_csv('data/igpm.csv').set_index('Data')\n",
    "igpm.index = pd.to_datetime(igpm.index, format='%b/%Y')\n",
    "construir_indice_acumulado(igpm).to_csv('data/igpm_acumulado.csv', index_label='Data')"
   ],
   "id": "a7dc4232605e231a",
   "outputs": [],
   "execution_count": 28
  }
 ],
 "metadata": {
  "kernelspec": {
   "display_name": "Python 3",
   "language": "python",
   "name": "python3"
  },
  "language_info": {
   "codemirror_mode": {
    "name": "ipython",
    "version": 2
   },
   "file_extension": ".py",
   "mimetype": "text/x-python",
   "name": "python",
   "nbconvert_exporter": "python",
   "pygments_lexer": "ipython2",
   "version": "2.7.6"
  }
 },
 "nbformat": 4,
 "nbformat_minor": 5
}
