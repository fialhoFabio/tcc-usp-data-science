{
 "cells": [
  {
   "cell_type": "code",
   "id": "initial_id",
   "metadata": {
    "collapsed": true,
    "ExecuteTime": {
     "end_time": "2025-04-26T04:55:45.233257Z",
     "start_time": "2025-04-26T04:55:45.229633Z"
    }
   },
   "source": [
    "import pandas as pd\n",
    "import yfinance as yf\n",
    "import matplotlib.pyplot as plt\n",
    "import seaborn as sns"
   ],
   "outputs": [],
   "execution_count": 53
  },
  {
   "metadata": {
    "ExecuteTime": {
     "end_time": "2025-04-26T04:51:31.423896Z",
     "start_time": "2025-04-26T04:51:31.330819Z"
    }
   },
   "cell_type": "code",
   "source": [
    "dolar = yf.download(\"USDBRL=X\", start=\"2010-01-01\", end=\"2025-01-01\")['Close'].resample('M').last()\n",
    "ibovespa = yf.download(\"^BVSP\", start=\"2010-01-01\", end=\"2025-01-01\")['Close'].resample('M').last()"
   ],
   "id": "9f207594e4b06ae8",
   "outputs": [
    {
     "name": "stderr",
     "output_type": "stream",
     "text": [
      "[*********************100%***********************]  1 of 1 completed\n",
      "C:\\Users\\fabio\\AppData\\Local\\Temp\\ipykernel_23412\\1854057712.py:1: FutureWarning: 'M' is deprecated and will be removed in a future version, please use 'ME' instead.\n",
      "  dolar = yf.download(\"USDBRL=X\", start=\"2010-01-01\", end=\"2025-01-01\")['Close'].resample('M').last()\n",
      "[*********************100%***********************]  1 of 1 completed\n",
      "C:\\Users\\fabio\\AppData\\Local\\Temp\\ipykernel_23412\\1854057712.py:2: FutureWarning: 'M' is deprecated and will be removed in a future version, please use 'ME' instead.\n",
      "  ibovespa = yf.download(\"^BVSP\", start=\"2010-01-01\", end=\"2025-01-01\")['Close'].resample('M').last()\n"
     ]
    }
   ],
   "execution_count": 45
  },
  {
   "metadata": {
    "ExecuteTime": {
     "end_time": "2025-04-26T05:25:54.964829Z",
     "start_time": "2025-04-26T05:25:54.954010Z"
    }
   },
   "cell_type": "code",
   "outputs": [],
   "execution_count": 67,
   "source": [
    "igpm = pd.read_csv('data/igpm.csv').set_index('Data')\n",
    "igpdi = pd.read_csv('data/igpdi.csv').set_index('Data')\n",
    "igp10 = pd.read_csv('data/igp10.csv').set_index('Data')\n",
    "inpc = pd.read_csv('data/inpc.csv').set_index('Data')\n",
    "ipca = pd.read_csv('data/ipca.csv').set_index('Data')"
   ],
   "id": "e3145bfe9b9ae63c"
  },
  {
   "metadata": {
    "ExecuteTime": {
     "end_time": "2025-04-26T05:25:58.011258Z",
     "start_time": "2025-04-26T05:25:58.008755Z"
    }
   },
   "cell_type": "code",
   "outputs": [],
   "execution_count": 68,
   "source": [
    "dolar.index = igpm.index\n",
    "ibovespa.index = igpm.index"
   ],
   "id": "15078c75431ee346"
  },
  {
   "metadata": {
    "ExecuteTime": {
     "end_time": "2025-04-26T05:25:58.693237Z",
     "start_time": "2025-04-26T05:25:58.681186Z"
    }
   },
   "cell_type": "code",
   "outputs": [
    {
     "data": {
      "text/plain": [
       "           Dolar  Ibovespa  IPCA  INPC  IGP10  IGPDI  IGPM\n",
       "Data                                                      \n",
       "Jan/2010  1.8729   65402.0   NaN   NaN    NaN    NaN  0.63\n",
       "Fev/2010  1.8060   66503.0   NaN   NaN    NaN    NaN  1.18\n",
       "Mar/2010  1.7805   70372.0   NaN   NaN    NaN    NaN  0.94\n",
       "Abr/2010  1.7287   67530.0   NaN   NaN    NaN    NaN  0.77\n",
       "Mai/2010  1.8144   63047.0   NaN   NaN    NaN    NaN  1.19\n",
       "...          ...       ...   ...   ...    ...    ...   ...\n",
       "Ago/2024  5.6277  136004.0   NaN   NaN    NaN    NaN  0.29\n",
       "Set/2024  5.4332  131816.0   NaN   NaN    NaN    NaN  0.62\n",
       "Out/2024  5.7623  129713.0   NaN   NaN    NaN    NaN  1.52\n",
       "Nov/2024  6.0139  125668.0   NaN   NaN    NaN    NaN  1.30\n",
       "Dez/2024  6.1779  120283.0   NaN   NaN    NaN    NaN  0.94\n",
       "\n",
       "[180 rows x 7 columns]"
      ],
      "text/html": [
       "<div>\n",
       "<style scoped>\n",
       "    .dataframe tbody tr th:only-of-type {\n",
       "        vertical-align: middle;\n",
       "    }\n",
       "\n",
       "    .dataframe tbody tr th {\n",
       "        vertical-align: top;\n",
       "    }\n",
       "\n",
       "    .dataframe thead th {\n",
       "        text-align: right;\n",
       "    }\n",
       "</style>\n",
       "<table border=\"1\" class=\"dataframe\">\n",
       "  <thead>\n",
       "    <tr style=\"text-align: right;\">\n",
       "      <th></th>\n",
       "      <th>Dolar</th>\n",
       "      <th>Ibovespa</th>\n",
       "      <th>IPCA</th>\n",
       "      <th>INPC</th>\n",
       "      <th>IGP10</th>\n",
       "      <th>IGPDI</th>\n",
       "      <th>IGPM</th>\n",
       "    </tr>\n",
       "    <tr>\n",
       "      <th>Data</th>\n",
       "      <th></th>\n",
       "      <th></th>\n",
       "      <th></th>\n",
       "      <th></th>\n",
       "      <th></th>\n",
       "      <th></th>\n",
       "      <th></th>\n",
       "    </tr>\n",
       "  </thead>\n",
       "  <tbody>\n",
       "    <tr>\n",
       "      <th>Jan/2010</th>\n",
       "      <td>1.8729</td>\n",
       "      <td>65402.0</td>\n",
       "      <td>NaN</td>\n",
       "      <td>NaN</td>\n",
       "      <td>NaN</td>\n",
       "      <td>NaN</td>\n",
       "      <td>0.63</td>\n",
       "    </tr>\n",
       "    <tr>\n",
       "      <th>Fev/2010</th>\n",
       "      <td>1.8060</td>\n",
       "      <td>66503.0</td>\n",
       "      <td>NaN</td>\n",
       "      <td>NaN</td>\n",
       "      <td>NaN</td>\n",
       "      <td>NaN</td>\n",
       "      <td>1.18</td>\n",
       "    </tr>\n",
       "    <tr>\n",
       "      <th>Mar/2010</th>\n",
       "      <td>1.7805</td>\n",
       "      <td>70372.0</td>\n",
       "      <td>NaN</td>\n",
       "      <td>NaN</td>\n",
       "      <td>NaN</td>\n",
       "      <td>NaN</td>\n",
       "      <td>0.94</td>\n",
       "    </tr>\n",
       "    <tr>\n",
       "      <th>Abr/2010</th>\n",
       "      <td>1.7287</td>\n",
       "      <td>67530.0</td>\n",
       "      <td>NaN</td>\n",
       "      <td>NaN</td>\n",
       "      <td>NaN</td>\n",
       "      <td>NaN</td>\n",
       "      <td>0.77</td>\n",
       "    </tr>\n",
       "    <tr>\n",
       "      <th>Mai/2010</th>\n",
       "      <td>1.8144</td>\n",
       "      <td>63047.0</td>\n",
       "      <td>NaN</td>\n",
       "      <td>NaN</td>\n",
       "      <td>NaN</td>\n",
       "      <td>NaN</td>\n",
       "      <td>1.19</td>\n",
       "    </tr>\n",
       "    <tr>\n",
       "      <th>...</th>\n",
       "      <td>...</td>\n",
       "      <td>...</td>\n",
       "      <td>...</td>\n",
       "      <td>...</td>\n",
       "      <td>...</td>\n",
       "      <td>...</td>\n",
       "      <td>...</td>\n",
       "    </tr>\n",
       "    <tr>\n",
       "      <th>Ago/2024</th>\n",
       "      <td>5.6277</td>\n",
       "      <td>136004.0</td>\n",
       "      <td>NaN</td>\n",
       "      <td>NaN</td>\n",
       "      <td>NaN</td>\n",
       "      <td>NaN</td>\n",
       "      <td>0.29</td>\n",
       "    </tr>\n",
       "    <tr>\n",
       "      <th>Set/2024</th>\n",
       "      <td>5.4332</td>\n",
       "      <td>131816.0</td>\n",
       "      <td>NaN</td>\n",
       "      <td>NaN</td>\n",
       "      <td>NaN</td>\n",
       "      <td>NaN</td>\n",
       "      <td>0.62</td>\n",
       "    </tr>\n",
       "    <tr>\n",
       "      <th>Out/2024</th>\n",
       "      <td>5.7623</td>\n",
       "      <td>129713.0</td>\n",
       "      <td>NaN</td>\n",
       "      <td>NaN</td>\n",
       "      <td>NaN</td>\n",
       "      <td>NaN</td>\n",
       "      <td>1.52</td>\n",
       "    </tr>\n",
       "    <tr>\n",
       "      <th>Nov/2024</th>\n",
       "      <td>6.0139</td>\n",
       "      <td>125668.0</td>\n",
       "      <td>NaN</td>\n",
       "      <td>NaN</td>\n",
       "      <td>NaN</td>\n",
       "      <td>NaN</td>\n",
       "      <td>1.30</td>\n",
       "    </tr>\n",
       "    <tr>\n",
       "      <th>Dez/2024</th>\n",
       "      <td>6.1779</td>\n",
       "      <td>120283.0</td>\n",
       "      <td>NaN</td>\n",
       "      <td>NaN</td>\n",
       "      <td>NaN</td>\n",
       "      <td>NaN</td>\n",
       "      <td>0.94</td>\n",
       "    </tr>\n",
       "  </tbody>\n",
       "</table>\n",
       "<p>180 rows × 7 columns</p>\n",
       "</div>"
      ]
     },
     "execution_count": 69,
     "metadata": {},
     "output_type": "execute_result"
    }
   ],
   "execution_count": 69,
   "source": [
    "df = pd.DataFrame()\n",
    "df.index = dolar.index\n",
    "df['Dolar'] = dolar\n",
    "df['Ibovespa'] = ibovespa\n",
    "df['IPCA'] = ipca\n",
    "df['INPC'] = inpc\n",
    "df['IGP10'] = igp10\n",
    "df['IGPDI'] = igpdi\n",
    "df['IGPM'] = igpm\n",
    "df"
   ],
   "id": "e63d3d5f17d834c6"
  },
  {
   "metadata": {
    "ExecuteTime": {
     "end_time": "2025-04-26T05:25:17.984729Z",
     "start_time": "2025-04-26T05:25:17.978452Z"
    }
   },
   "cell_type": "code",
   "source": "df.isnull().sum()",
   "id": "aac89eaa12573cdd",
   "outputs": [
    {
     "data": {
      "text/plain": [
       "Dolar       0\n",
       "Ibovespa    0\n",
       "IPCA        0\n",
       "INPC        0\n",
       "IGP10       0\n",
       "IGPDI       0\n",
       "IGPM        0\n",
       "dtype: int64"
      ]
     },
     "execution_count": 66,
     "metadata": {},
     "output_type": "execute_result"
    }
   ],
   "execution_count": 66
  },
  {
   "metadata": {
    "ExecuteTime": {
     "end_time": "2025-04-26T05:23:33.601032Z",
     "start_time": "2025-04-26T05:23:33.595523Z"
    }
   },
   "cell_type": "code",
   "source": [
    "from statsmodels.tsa.vector_ar.vecm import select_coint_rank, VECM\n",
    "rank_test = select_coint_rank(df[['IPCA', 'Dolar']], det_order=-1, k_ar_diff=2)\n",
    "print(rank_test.rank)"
   ],
   "id": "df84779543c87f23",
   "outputs": [
    {
     "name": "stdout",
     "output_type": "stream",
     "text": [
      "1\n"
     ]
    }
   ],
   "execution_count": 65
  }
 ],
 "metadata": {
  "kernelspec": {
   "display_name": "Python 3",
   "language": "python",
   "name": "python3"
  },
  "language_info": {
   "codemirror_mode": {
    "name": "ipython",
    "version": 2
   },
   "file_extension": ".py",
   "mimetype": "text/x-python",
   "name": "python",
   "nbconvert_exporter": "python",
   "pygments_lexer": "ipython2",
   "version": "2.7.6"
  }
 },
 "nbformat": 4,
 "nbformat_minor": 5
}
